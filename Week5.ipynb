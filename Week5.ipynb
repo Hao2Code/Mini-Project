{
 "cells": [
  {
   "cell_type": "code",
   "execution_count": 1,
   "id": "bf5a9523",
   "metadata": {},
   "outputs": [
    {
     "name": "stdout",
     "output_type": "stream",
     "text": [
      "C:\\Users\\haoha\\Desktop\\Week 5\n"
     ]
    }
   ],
   "source": [
    "import os\n",
    "%cd C:/Users/haoha/Desktop/Week 5"
   ]
  },
  {
   "cell_type": "code",
   "execution_count": 17,
   "id": "d357c94c",
   "metadata": {},
   "outputs": [
    {
     "data": {
      "text/plain": [
       "True"
      ]
     },
     "execution_count": 17,
     "metadata": {},
     "output_type": "execute_result"
    }
   ],
   "source": [
    "import sys\n",
    "# Python 3.7 is required\n",
    "assert sys.version_info >= (3,7)\n",
    "\n",
    "import cv2 as cv\n",
    "import numpy as np\n",
    "\n",
    "# Make sure that optimization is enabled\n",
    "if not cv.useOptimized():\n",
    "    cv.setUseOptimized(True)\n",
    "\n",
    "cv.useOptimized()"
   ]
  },
  {
   "cell_type": "code",
   "execution_count": 3,
   "id": "69d77c9a",
   "metadata": {},
   "outputs": [],
   "source": [
    "import matplotlib.pyplot as plt"
   ]
  },
  {
   "cell_type": "code",
   "execution_count": 8,
   "id": "e6b48bc7",
   "metadata": {},
   "outputs": [],
   "source": [
    "img = cv.imread('dog.jfif')\n",
    "img_copy = img.copy()\n",
    "\n",
    "height, width = img.shape[:2]\n",
    "\n",
    "\n",
    "def crop_grid(img, num_horizontal_grid, num_vertical_grid, line_color):\n",
    "    M, N = int(height/num_horizontal_grid), int(width/num_vertical_grid)\n",
    "\n",
    "    x1, y1 = 0, 0\n",
    "\n",
    "    for y in range(0, height, M):\n",
    "        for x in range(0, width, N):\n",
    "            y1 = y + M    # lower right coordinate that will be used to construct rectangle\n",
    "            x1 = x + N\n",
    "        \n",
    "            # Check whether patch lower right coordinate exceeds image height and width\n",
    "            if x1 >= width and y1 >= height:\n",
    "                x1 = width - 1\n",
    "                y1 = height - 1\n",
    "                tile = img[y:height, x:width]\n",
    "                cv.rectangle(img_copy, (x, y), (x1, y1), line_color, 1)\n",
    "                \n",
    "            # When patch lower right y-coordinate exceeds patch height\n",
    "            elif y1 >= height:\n",
    "                y1 = height - 1\n",
    "                cv.rectangle(img_copy, (x, y), (x1, y1), line_color, 1)\n",
    "            \n",
    "            # When patch lower right x-coordinate exceeds patch width\n",
    "            elif x1 >= width:\n",
    "                x1 = width - 1\n",
    "                cv.rectangle(img_copy, (x, y), (x1, y1), line_color, 1)\n",
    "        \n",
    "            else:\n",
    "                cv.rectangle(img_copy, (x, y), (x1, y1), line_color, 1)\n",
    "\n",
    "\n",
    "#call function\n",
    "crop_grid(img_copy, 2, 2, (29,29,250))\n",
    "\n",
    "cv.imshow('patched image', img_copy)\n",
    "cv.waitKey(0)\n",
    "cv.destroyAllWindows()"
   ]
  },
  {
   "cell_type": "code",
   "execution_count": 40,
   "id": "21553189",
   "metadata": {},
   "outputs": [],
   "source": [
    "import time\n",
    "\n",
    "img1 = cv.imread('lena.jfif')\n",
    "img2 = cv.imread('coins.jfif')\n",
    "\n",
    "#resize img2\n",
    "new_shape = img1.shape[:2]\n",
    "img2 = cv.resize(img2, new_shape)\n",
    "\n",
    "for i in np.linspace(0,1,50):\n",
    "    alpha = i\n",
    "    beta = 1 - alpha\n",
    "    dst = cv.addWeighted(img1, alpha, img2, beta, 0)\n",
    "    cv.imshow('Image blending', dst)\n",
    "    time.sleep(0.001)\n",
    "    if cv.waitKey(1) & 0xFF == ord ('q'):\n",
    "        break\n",
    "    \n",
    "cv.destroyAllWindows()"
   ]
  },
  {
   "cell_type": "code",
   "execution_count": 51,
   "id": "649a0442",
   "metadata": {},
   "outputs": [],
   "source": [
    "import imutils\n",
    "img = cv.imread('lena.jfif')\n",
    "\n",
    "rotation = imutils.rotate(img, 45)\n",
    "cv.imshow(\"45 degree\",rotation)\n",
    "\n",
    "cv.waitKey(0)\n",
    "cv.destroyAllWindows()"
   ]
  },
  {
   "cell_type": "code",
   "execution_count": 62,
   "id": "045f4b61",
   "metadata": {},
   "outputs": [],
   "source": [
    "bee = cv.imread('native-bee.png')\n",
    "flower = cv.imread('flower.jfif')\n",
    "\n",
    "flower = flower[40:120, 90:175]\n",
    "x, y = 80, 50\n",
    "height, width = flower.shape[:2]\n",
    "\n",
    "#threshold the flower image\n",
    "ret,segmented_flower = cv.threshold(flower, 80, 255, cv.THRESH_BINARY_INV)\n",
    "\n",
    "bee[b:b+height, a:a+width] = cv.bitwise_and(bee[y:y+height,x:x+width], segmented_flower)\n",
    "bee[b:b+height, a:a+width] = cv.bitwise_or(bee[y:y+height, x:x+width], flower)\n",
    "\n",
    "cv.imshow('flower+bee', bee)\n",
    "cv.waitKey(0)\n",
    "cv.destroyAllWindows()"
   ]
  }
 ],
 "metadata": {
  "kernelspec": {
   "display_name": "Python 3 (ipykernel)",
   "language": "python",
   "name": "python3"
  },
  "language_info": {
   "codemirror_mode": {
    "name": "ipython",
    "version": 3
   },
   "file_extension": ".py",
   "mimetype": "text/x-python",
   "name": "python",
   "nbconvert_exporter": "python",
   "pygments_lexer": "ipython3",
   "version": "3.9.12"
  }
 },
 "nbformat": 4,
 "nbformat_minor": 5
}
